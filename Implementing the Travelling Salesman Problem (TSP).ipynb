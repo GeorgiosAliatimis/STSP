{
 "cells": [
  {
   "cell_type": "markdown",
   "id": "416f6ee4",
   "metadata": {},
   "source": [
    "# The Symmetric Travelling Salesman Problem\n",
    "\n",
    "Recall that in the Travelling Salesman Problem (TSP) we have a set of cities $i=1,\\ldots, n$ and that we must find a tour which visits every city exactly once in such a way that minimizes the total distance travelled. The distance between any two cities $i, j$ is given by $c_{ij} > 0$. More generally, this can be thought of as the problem of finding the shortest *Hamiltonian tour* on a complete graph $G=(V,E)$, where the nodes of the graph correspond to the cities and the edges are routes between the cities.\n",
    "\n",
    "In this notebook, you will implement models for the special case where the distance between each pair of locations (or nodes) is symmetric, that is, the case where $c_{ij} = c_{ji}$ for each $(i,j)\\in E$. In this case, we can represent the problem using an *undirected* graph and simplify the formulation.\n",
    "\n",
    "### Instructions for assignment\n",
    "\n",
    "This assignment is split into three parts. The first part guides you in the implementation of the Dantzig-Fulkerson-Johnson (DFS) formulation of the TSP you have already seen in the lectures. In the second part, you will be asked to implement an alternative formulation called the *multistage-insertion* formulation. In the third part you will compare the performance of these two implementations.\n",
    "\n",
    "This notebook also contains an additional section which guides you on how to implement the DFS formulation in a more efficient manner by using a feature of Gurobi called a *callback function*. This is provided for interest only and will not be assessed.\n",
    "\n",
    "Code to generate instances of the TSP problem, as well to plot solutions is provided to help you test your implementations.\n",
    "\n",
    "Please complete the exercises in this Jupyter notebook, and submit this to Moodle. Where you are provided with the beginning of a function, do not change its name or its main arguments (you may on the other hand add optional keyword arguments if you wish). An additional file \"instance_20_nodes.pkl\" and code to read this, are provided for the purposes of marking your implementations. \n",
    "\n",
    "Marks will mainly be awarded for correct implementations, but some marks will also be awarded for good coding practice. Before submitting, be sure that all of the code runs without error when you select **Kernel->Restart & Run All** in the menu above. The submission deadline is **Friday 19th November at 16:00**."
   ]
  },
  {
   "cell_type": "markdown",
   "id": "5021345c",
   "metadata": {},
   "source": [
    "# Generating random instances of the TSP\n",
    "\n",
    "The following cell of code defines a function for generating random instances of the symmetric TSP for a given number of cities. This will be used to help test your implementations of the TSP.\n",
    "\n",
    "The function works by uniformly randomly generating points on the unit square $(0,1) \\times (0,1)$, and then calculating the distance matrix for these points. For the purposes of plotting, the function returns the randomly generated points alongside the distance matrix."
   ]
  },
  {
   "cell_type": "code",
   "execution_count": 1,
   "id": "cd0eb57f",
   "metadata": {},
   "outputs": [
    {
     "name": "stdout",
     "output_type": "stream",
     "text": [
      "Requirement already satisfied: numpy in c:\\users\\aliatimi\\appdata\\local\\miniconda\\envs\\my-env\\lib\\site-packages (1.21.2)\n",
      "Requirement already satisfied: scipy in c:\\users\\aliatimi\\appdata\\local\\miniconda\\envs\\my-env\\lib\\site-packages (1.7.1)\n"
     ]
    }
   ],
   "source": [
    "!python -m pip install numpy scipy"
   ]
  },
  {
   "cell_type": "code",
   "execution_count": 2,
   "id": "ab025e69",
   "metadata": {},
   "outputs": [],
   "source": [
    "from random import random, seed\n",
    "import math\n",
    "import numpy as np\n",
    "from scipy.spatial import distance_matrix\n",
    "\n",
    "np.random.seed(5)\n",
    "\n",
    "def generate_points_and_distance(n : int):\n",
    "    pts = np.random.random((n, 2))\n",
    "    dist = distance_matrix(pts, pts)\n",
    "    return pts, dist"
   ]
  },
  {
   "cell_type": "markdown",
   "id": "39b62179",
   "metadata": {},
   "source": [
    "The following cells demonstrate how to use this function, extract distances, and plot the locations."
   ]
  },
  {
   "cell_type": "code",
   "execution_count": 3,
   "id": "f2c66328",
   "metadata": {},
   "outputs": [
    {
     "data": {
      "text/plain": [
       "(array([[0.22199317, 0.87073231],\n",
       "        [0.20671916, 0.91861091],\n",
       "        [0.48841119, 0.61174386],\n",
       "        [0.76590786, 0.51841799],\n",
       "        [0.2968005 , 0.18772123],\n",
       "        [0.08074127, 0.7384403 ],\n",
       "        [0.44130922, 0.15830987],\n",
       "        [0.87993703, 0.27408646],\n",
       "        [0.41423502, 0.29607993],\n",
       "        [0.62878791, 0.57983781]]),\n",
       " array([[0.        , 0.05025591, 0.37155561, 0.64804982, 0.68709553,\n",
       "         0.19352849, 0.74541617, 0.88818713, 0.60595567, 0.50010156],\n",
       "        [0.05025591, 0.        , 0.41655466, 0.68763826, 0.73641997,\n",
       "         0.21984512, 0.79566964, 0.9320054 , 0.65620702, 0.54121091],\n",
       "        [0.37155561, 0.41655466, 0.        , 0.29276974, 0.46530619,\n",
       "         0.42690368, 0.45587387, 0.51701548, 0.32426196, 0.14395701],\n",
       "        [0.64804982, 0.68763826, 0.29276974, 0.        , 0.57395301,\n",
       "         0.71962703, 0.48481144, 0.26963039, 0.41606249, 0.15024738],\n",
       "        [0.68709553, 0.73641997, 0.46530619, 0.57395301, 0.        ,\n",
       "         0.59158523, 0.14747135, 0.58949738, 0.15978884, 0.51378113],\n",
       "        [0.19352849, 0.21984512, 0.42690368, 0.71962703, 0.59158523,\n",
       "         0.        , 0.68305239, 0.92430425, 0.55398626, 0.57053472],\n",
       "        [0.74541617, 0.79566964, 0.45587387, 0.48481144, 0.14747135,\n",
       "         0.68305239, 0.        , 0.45365028, 0.14040514, 0.46133942],\n",
       "        [0.88818713, 0.9320054 , 0.51701548, 0.26963039, 0.58949738,\n",
       "         0.92430425, 0.45365028, 0.        , 0.46622106, 0.39567634],\n",
       "        [0.60595567, 0.65620702, 0.32426196, 0.41606249, 0.15978884,\n",
       "         0.55398626, 0.14040514, 0.46622106, 0.        , 0.35574074],\n",
       "        [0.50010156, 0.54121091, 0.14395701, 0.15024738, 0.51378113,\n",
       "         0.57053472, 0.46133942, 0.39567634, 0.35574074, 0.        ]]))"
      ]
     },
     "execution_count": 3,
     "metadata": {},
     "output_type": "execute_result"
    }
   ],
   "source": [
    "n=10\n",
    "pts, dist = generate_points_and_distance(n)\n",
    "pts, dist"
   ]
  },
  {
   "cell_type": "code",
   "execution_count": 4,
   "id": "d5941ed9",
   "metadata": {},
   "outputs": [
    {
     "name": "stdout",
     "output_type": "stream",
     "text": [
      "The distance between point 0, [0.22199317 0.87073231], and point 1, [0.20671916 0.91861091], is 0.05025590575928056\n"
     ]
    }
   ],
   "source": [
    "i, j = 0, 1\n",
    "print(f\"The distance between point {i}, {pts[i]}, and point {j}, {pts[j]}, is {dist[i,j]}\")"
   ]
  },
  {
   "cell_type": "code",
   "execution_count": 5,
   "id": "5275ac78",
   "metadata": {},
   "outputs": [
    {
     "data": {
      "text/plain": [
       "<matplotlib.collections.PathCollection at 0x1795f8fe730>"
      ]
     },
     "execution_count": 5,
     "metadata": {},
     "output_type": "execute_result"
    },
    {
     "data": {
      "image/png": "[encoded data removed]",
      "text/plain": [
       "<Figure size 432x288 with 1 Axes>"
      ]
     },
     "metadata": {
      "needs_background": "light"
     },
     "output_type": "display_data"
    }
   ],
   "source": [
    "import matplotlib.pyplot as plt\n",
    "%matplotlib inline\n",
    "\n",
    "plt.scatter(pts[:,0], pts[:,1])"
   ]
  },
  {
   "cell_type": "markdown",
   "id": "77fd8f40",
   "metadata": {},
   "source": [
    "# 1. Implementing the Dantzig-Fulkerson-Johnson Formulation\n",
    "\n",
    "[//]: # (Let $x_{ij}$ for $i=1,\\ldots, n,\\ j=i,\\ldots,n$ be the binary decision indicating whether the edge ${i,j}$ in their tour of the cities.)\n",
    "Let $x_{e}$ be the binary decision indicating whether the edge $e\\in E$ is used in the Hamiltonian tour.\n",
    "The Dantzig-Fulkerson-Johnson (DFJ) formulation of the symmetric TSP (as seen in the lectures) can then be stated as follows:\n",
    "\n",
    "\\begin{align}\n",
    "% \\min \\sum_{i=1}^{n} & \\sum_{j=i}^n c_{ij} x_{ij},\\\\\n",
    "\\min \\sum_{e\\in E} & c_e x_e \\\\\n",
    "%\\text{subject to} \\sum_{e\\in \\delta(i)} x_{e} &= 2 \\ \\forall i=1,\\ldots,n,\\\\\n",
    "\\text{subject to} \\sum_{e\\in \\delta(i)} x_{e} &= 2 \\ \\forall i\\in V,\\\\\n",
    "\\sum_{\\{i,j\\}\\in E: i,j\\in S} x_{ij} &\\leq |S| - 1\\ \\forall S \\subset V,\n",
    "\\end{align}\n",
    "\n",
    "where $\\delta(i)$ represents the set of edges containing node $i$ as an end-point.\n",
    "\n",
    "The implementation of the DFJ is complicated by the fact that the number of subtour elimination constraints is exponential with respect to the number of nodes in the problem. This means that for even moderately sized instances of the TSP, it is impractical to add all subtour elimination constraints to the model. Instead, an iterative process can be used to solve the problem whereby we first solve the model without any subtour elimination constraints, find any broken subtour elimination constraints, add these to our model, and then resolve model. This process continues until no more broken constraints are found, at which point we have the optimal tour.\n",
    "\n",
    "To guide you in implementing this, we have broken down this approach into three steps.\n",
    "\n",
    "## 1a) Implement Base Model\n",
    "\n",
    "The first step is to implement the TSP without any subtour elimination constraints. \n",
    "\n",
    "Note that although we stated the problem above in terms of a graph, there isn't a need to use `networkx` to implement it, as the graph structure is fairly simple. Instead, it is recommended to implement it using integer indices. For a problem with $n$ cities, the decision variables can be indexed as $x_{ij}$ for $i=0,\\ldots,n-1\\, \\ \\text{and } j=i+1,\\ldots,n-1$.\n",
    "\n",
    "### i) Complete the function below which takes as input a distance matrix, constructs the base model, and returns both the `Gurobi.Model` object alongside the decision variables `x`."
   ]
  },
  {
   "cell_type": "code",
   "execution_count": 6,
   "id": "f5212164",
   "metadata": {},
   "outputs": [],
   "source": [
    "from gurobipy import quicksum, Model, GRB, tupledict, tuplelist\n",
    "\n",
    "## NOTE: **gurobi_params collects any keywords arguments\n",
    "## These are used to set Gurobi parameters\n",
    "## You will see how this is used later.\n",
    "def construct_base_model(dist, **gurobi_params):\n",
    "    m = Model()\n",
    "    n = dist.shape[0] # number of nodes\n",
    "    for k,val in gurobi_params.items():\n",
    "        m.setParam(k, val)    \n",
    "    x = m.addVars( ((i,j) for i in range(n) for j in range(i+1,n)) ,vtype=GRB.BINARY)\n",
    "    m.setObjective(quicksum(dist[i,j]*x[i,j] for i in range(n) for j in range(i+1,n) ) )\n",
    "    m.addConstrs( quicksum(x[i,j] for j in range(i+1,n) ) + quicksum(x[j,i] for j in range(i)) == 2 for i in range(n) )\n",
    "    return m, x"
   ]
  },
  {
   "cell_type": "markdown",
   "id": "9f6cd2ad",
   "metadata": {},
   "source": [
    "### ii) Next write a function which takes as input the model and x variables, solves the problem and returns the solution expressed a list of edges."
   ]
  },
  {
   "cell_type": "code",
   "execution_count": 7,
   "id": "0b1bcb24",
   "metadata": {},
   "outputs": [],
   "source": [
    "def solve_model(m, x):\n",
    "    m.optimize()\n",
    "    edges = [k for k,v in x.items() if int(v.x)]\n",
    "    return edges"
   ]
  },
  {
   "cell_type": "markdown",
   "id": "2f9e3840",
   "metadata": {},
   "source": [
    "The code below defines a function for plotting a solution and is provided to enable you to test your code."
   ]
  },
  {
   "cell_type": "code",
   "execution_count": 8,
   "id": "f1879451",
   "metadata": {},
   "outputs": [
    {
     "name": "stdout",
     "output_type": "stream",
     "text": [
      "Academic license - for non-commercial use only - expires 2022-10-10\n",
      "Using license file C:\\Users\\aliatimi\\gurobi.lic\n",
      "Gurobi Optimizer version 9.1.2 build v9.1.2rc0 (win64)\n",
      "Thread count: 4 physical cores, 8 logical processors, using up to 8 threads\n",
      "Optimize a model with 10 rows, 45 columns and 90 nonzeros\n",
      "Model fingerprint: 0xb72f5f5f\n",
      "Variable types: 0 continuous, 45 integer (45 binary)\n",
      "Coefficient statistics:\n",
      "  Matrix range     [1e+00, 1e+00]\n",
      "  Objective range  [5e-02, 9e-01]\n",
      "  Bounds range     [1e+00, 1e+00]\n",
      "  RHS range        [2e+00, 2e+00]\n",
      "Found heuristic solution: objective 4.4626858\n",
      "Presolve time: 0.01s\n",
      "Presolved: 10 rows, 45 columns, 90 nonzeros\n",
      "Variable types: 0 continuous, 45 integer (45 binary)\n",
      "\n",
      "Root relaxation: objective 1.992145e+00, 9 iterations, 0.00 seconds\n",
      "\n",
      "    Nodes    |    Current Node    |     Objective Bounds      |     Work\n",
      " Expl Unexpl |  Obj  Depth IntInf | Incumbent    BestBd   Gap | It/Node Time\n",
      "\n",
      "*    0     0               0       1.9921451    1.99215  0.00%     -    0s\n",
      "\n",
      "Explored 0 nodes (9 simplex iterations) in 0.02 seconds\n",
      "Thread count was 8 (of 8 available processors)\n",
      "\n",
      "Solution count 2: 1.99215 4.46269 \n",
      "\n",
      "Optimal solution found (tolerance 1.00e-04)\n",
      "Best objective 1.992145101546e+00, best bound 1.992145101546e+00, gap 0.0000%\n"
     ]
    }
   ],
   "source": [
    "m, x = construct_base_model(dist)\n",
    "edges = solve_model(m, x)"
   ]
  },
  {
   "cell_type": "code",
   "execution_count": 9,
   "id": "0f47df43",
   "metadata": {},
   "outputs": [],
   "source": [
    "def plot_solution(pts, edges):\n",
    "    n=len(pts)\n",
    "    for i,j in edges:\n",
    "        plt.plot([pts[i,0], pts[j,0]], [pts[i,1], pts[j,1]], 'ro-')\n",
    "    for i in range(n):\n",
    "        plt.annotate(i, pts[i,:])"
   ]
  },
  {
   "cell_type": "code",
   "execution_count": 10,
   "id": "a886387f",
   "metadata": {},
   "outputs": [
    {
     "data": {
      "text/plain": [
       "[(0, 1),\n",
       " (0, 5),\n",
       " (1, 5),\n",
       " (2, 7),\n",
       " (2, 9),\n",
       " (3, 7),\n",
       " (3, 9),\n",
       " (4, 6),\n",
       " (4, 8),\n",
       " (6, 8)]"
      ]
     },
     "execution_count": 10,
     "metadata": {},
     "output_type": "execute_result"
    }
   ],
   "source": [
    "edges"
   ]
  },
  {
   "cell_type": "code",
   "execution_count": 11,
   "id": "405a99b6",
   "metadata": {},
   "outputs": [
    {
     "data": {
      "image/png": "[encoded data removed]",
      "text/plain": [
       "<Figure size 432x288 with 1 Axes>"
      ]
     },
     "metadata": {
      "needs_background": "light"
     },
     "output_type": "display_data"
    }
   ],
   "source": [
    "plot_solution(pts, edges)"
   ]
  },
  {
   "cell_type": "markdown",
   "id": "7df1d0ff",
   "metadata": {},
   "source": [
    "## 1b) Implement separation algorithm\n",
    "\n",
    "After solving the optimization problem without subtour elimination constraints, you will most likely find your solution has multiple subtours. Although it is easy to see by eye what are the subtours, in order to be able to solve problems practically, it is necessary to have code which can automatically find these for a given solution.\n",
    "\n",
    "*For the purposes of illustration, in the unlikely event that the example above did not have any subtours, please rerun the code above with a different random seed*\n",
    "\n",
    "### i. Complete the function below which takes as input a set of edges and the number of vertices in the graph, and returns a subset of the edges which form a subtour (or full tour)\n",
    "\n",
    "*Hint: note that the edges returned by solving the base problem will always give a permutation meaning that to find a subtour/cycle, it suffices to start at any given edge, and follow the end-point of each edge until we return to the starting point. If this procedure returns all the edges, then the selected edges already form a single tour.*"
   ]
  },
  {
   "cell_type": "code",
   "execution_count": 12,
   "id": "9ce5a21a",
   "metadata": {},
   "outputs": [],
   "source": [
    "from collections import defaultdict\n",
    "def find_subtour(edges, n):    \n",
    "    d = defaultdict(list)\n",
    "    for edge in edges:\n",
    "        d[edge[0]].append(edge[1])\n",
    "        d[edge[1]].append(edge[0])\n",
    "    cycle= list()\n",
    "    v=0\n",
    "    while v is not None:\n",
    "        cycle.append(v)\n",
    "        v_next=None\n",
    "        for s in d[v]:\n",
    "            if s in cycle: continue \n",
    "            v_next=s; break\n",
    "        v = v_next\n",
    "    L = len(cycle)\n",
    "    return cycle"
   ]
  },
  {
   "cell_type": "markdown",
   "id": "64ae90ba",
   "metadata": {},
   "source": [
    "### ii. Test your code by running `find_subtour` on the edges returned by solving the base model above. Add the subtour elimination constraint to the model, reoptimize the model, and plot the new solution.\n",
    "\n",
    "*For the purposes of illustration, in the unlikely event that the example above did not have any subtours, please rerun the code above with a different random seed.*"
   ]
  },
  {
   "cell_type": "code",
   "execution_count": 13,
   "id": "5060949a",
   "metadata": {},
   "outputs": [
    {
     "name": "stdout",
     "output_type": "stream",
     "text": [
      "1.992145101545653\n"
     ]
    },
    {
     "data": {
      "image/png": "[encoded data removed]",
      "text/plain": [
       "<Figure size 432x288 with 1 Axes>"
      ]
     },
     "metadata": {
      "needs_background": "light"
     },
     "output_type": "display_data"
    },
    {
     "name": "stdout",
     "output_type": "stream",
     "text": [
      "2.3317797616914184\n"
     ]
    },
    {
     "data": {
      "image/png": "[encoded data removed]",
      "text/plain": [
       "<Figure size 432x288 with 1 Axes>"
      ]
     },
     "metadata": {
      "needs_background": "light"
     },
     "output_type": "display_data"
    },
    {
     "name": "stdout",
     "output_type": "stream",
     "text": [
      "2.5203881414955656\n"
     ]
    },
    {
     "data": {
      "image/png": "[encoded data removed]",
      "text/plain": [
       "<Figure size 432x288 with 1 Axes>"
      ]
     },
     "metadata": {
      "needs_background": "light"
     },
     "output_type": "display_data"
    }
   ],
   "source": [
    "m, x = construct_base_model(dist,outputFlag=0)\n",
    "n = dist.shape[0]\n",
    "while True:\n",
    "    edges = solve_model(m,x)\n",
    "    print(m.objVal)\n",
    "    plot_solution(pts, edges),plt.show()\n",
    "    cycle=find_subtour(edges,n)\n",
    "    L = len(cycle)\n",
    "    if L==n: break\n",
    "    m.addConstr(quicksum(x[min(cycle[i],cycle[j]),max(cycle[i],cycle[j])] for i in range(L) for j in range(i+1,L)) <= L-1 )"
   ]
  },
  {
   "cell_type": "markdown",
   "id": "ba6a802d",
   "metadata": {},
   "source": [
    "# 1c) Putting it all together - implementing row generation algorithm\n",
    "\n",
    "If you are fortunate, after adding a single subtour elimination constraint, an optimal feasible solution will have been found. Usually however, we must add multiple subtour elimination constraints to solve the TSP.\n",
    "\n",
    "Using the code you have already written above, complete function below which takes as input a distance matrix, solves the TSP by iteratively adding subtour elimination constraints and reoptimizing, and returns the optimal solution (the edges in the optimal tour) and the optimal objective value."
   ]
  },
  {
   "cell_type": "code",
   "execution_count": 14,
   "id": "2e33e5a2",
   "metadata": {},
   "outputs": [],
   "source": [
    "def solve_tsp_row_gen(dist,iter_log=True, **gurobi_params):\n",
    "    n = dist.shape[0] # number of nodes\n",
    "    m, x = construct_base_model(dist, **gurobi_params)\n",
    "    i=0\n",
    "    while True:\n",
    "        i+=1 # Increment counter\n",
    "        edges = solve_model(m,x)\n",
    "        cycle=find_subtour(edges,n); L = len(cycle)\n",
    "        if L==n: break\n",
    "        m.addConstr(quicksum(x[i,j] for i in cycle for j in cycle if j>i ) <= L-1 )\n",
    "    if(iter_log): print(\"Terminated after\", i, \"iterations\")\n",
    "    return edges, m.objVal"
   ]
  },
  {
   "cell_type": "markdown",
   "id": "26c75d3e",
   "metadata": {},
   "source": [
    "The following two cells test your implementation works. Do not modify as this will be used for marking purposes."
   ]
  },
  {
   "cell_type": "code",
   "execution_count": 15,
   "id": "245cdd0e",
   "metadata": {},
   "outputs": [
    {
     "name": "stdout",
     "output_type": "stream",
     "text": [
      "Terminated after 8 iterations\n"
     ]
    },
    {
     "data": {
      "text/plain": [
       "4.119072298102383"
      ]
     },
     "execution_count": 15,
     "metadata": {},
     "output_type": "execute_result"
    }
   ],
   "source": [
    "import pickle\n",
    "with open('instance_20_nodes.pkl', 'rb') as f:\n",
    "    test_pts, test_dist = pickle.load(f)\n",
    "opt_sol, opt_val = solve_tsp_row_gen(test_dist, outputFlag=0)\n",
    "opt_val"
   ]
  },
  {
   "cell_type": "code",
   "execution_count": 16,
   "id": "b26589b5",
   "metadata": {},
   "outputs": [
    {
     "data": {
      "image/png": "[encoded data removed]",
      "text/plain": [
       "<Figure size 432x288 with 1 Axes>"
      ]
     },
     "metadata": {
      "needs_background": "light"
     },
     "output_type": "display_data"
    }
   ],
   "source": [
    "plot_solution(test_pts, opt_sol)"
   ]
  },
  {
   "cell_type": "markdown",
   "id": "62131a98",
   "metadata": {},
   "source": [
    "# 2. Implementation of Multistage-Insertion Formulation\n",
    "\n",
    "There are many alternate formulations of the TSP. The multistage-insertion (MS) formulation of the TSP has the advantage of having only a polynomial number of constraints unlike the DFJ formulation.\n",
    "\n",
    "The formulation can be found in Section 3 of the paper *On the equivalence of the multistage-insertion and cycle-shrink formulations of the symmetric traveling salesman problem* by Arthanari and Usha (2001). \n",
    "\n",
    "**Complete the Python function below which takes as argument a distance matrix and returns the optimal tour and optimal tour length.**\n",
    "\n",
    "#### Hints\n",
    "\n",
    "- *Test your implementation is correct by comparing the output with that of your implementation of the DFJ formulation. For a given instance the total distance of the optimal tours should match (although not necessarily the optimal tours themselves).*\n",
    "\n",
    "- *Be careful with your indexing as Python indexes from 0 rather than 1.*\n",
    "\n",
    "- *Note that the objective value in this formulation needs to be adjusted by a constant value to get the total distance of the tour*"
   ]
  },
  {
   "cell_type": "code",
   "execution_count": 17,
   "id": "be735092",
   "metadata": {},
   "outputs": [],
   "source": [
    "def solve_tsp_ms(dist, **gurobi_params):\n",
    "    n = dist.shape[0] # number of nodes\n",
    "    m = Model()   \n",
    "    for k,val in gurobi_params.items():\n",
    "        m.setParam(k, val)\n",
    "\n",
    "    # Add variables\n",
    "    x = m.addVars(((i,j,k) for k in range(3,n) for i in range(k) for j in range(i+1,k)) ,vtype=GRB.BINARY)\n",
    "    m.setObjective(quicksum((dist[i,k]+dist[j,k]-dist[i,j]) * x[i,j,k] for k in range(3,n) for i in range(k) for j in range(i+1,k)),GRB.MINIMIZE)\n",
    "    m.addConstrs(quicksum(x[i,j,k] for i in range(k) for j in range(i+1,k)) == 1 for k in range(3,n))\n",
    "    m.addConstrs(quicksum(x[i,j,k] for k in range(3,n)) <= 1 for i in range(3) for j in range(i+1,3))\n",
    "    m.addConstrs(quicksum(x[i,j,k] for k in range(j+1,n)) -\n",
    "                 quicksum(x[i,s,j] for s in range(i+1,j))-\n",
    "                 quicksum(x[r,i,j] for r in range(i)) <= 0 \n",
    "                 for j in range(3,n-1) for i in range(j))\n",
    "    m.optimize()\n",
    "\n",
    "    edges = [(i,j) for i in range(n-1) for j in range(i+1,n) if ((j<3) or \n",
    "                 int(sum([x[i,s,j].x for s in range(i+1,j)])+\n",
    "                 sum([x[r,i,j].x for r in range(i)]))) and not\n",
    "                 int(sum([x[i,j,k].x for k in range(max(j+1,3),n)]))\n",
    "            ]\n",
    "    return edges, m.objVal"
   ]
  },
  {
   "cell_type": "markdown",
   "id": "a8f8940b",
   "metadata": {},
   "source": [
    "The following two cells test your implementation works. Do not modify as these will be used for marking purposes."
   ]
  },
  {
   "cell_type": "code",
   "execution_count": 18,
   "id": "ca0504f6",
   "metadata": {},
   "outputs": [],
   "source": [
    "with open('instance_20_nodes.pkl', 'rb') as f:\n",
    "    test_pts, test_dist = pickle.load(f)\n",
    "opt_sol, opt_val = solve_tsp_ms(test_dist, outputFlag=0)"
   ]
  },
  {
   "cell_type": "code",
   "execution_count": 19,
   "id": "79016aeb",
   "metadata": {},
   "outputs": [
    {
     "data": {
      "text/plain": [
       "4.119072298102382"
      ]
     },
     "execution_count": 19,
     "metadata": {},
     "output_type": "execute_result"
    }
   ],
   "source": [
    "#The total distance is the optimal value + c[0,1] + c[0,2] + c[1,2]\n",
    "sum([test_dist[i,j] for i in range(3) for j in range(i+1,3)]) + opt_val"
   ]
  },
  {
   "cell_type": "code",
   "execution_count": 20,
   "id": "c695c507",
   "metadata": {},
   "outputs": [
    {
     "data": {
      "image/png": "[encoded data removed]",
      "text/plain": [
       "<Figure size 432x288 with 1 Axes>"
      ]
     },
     "metadata": {
      "needs_background": "light"
     },
     "output_type": "display_data"
    }
   ],
   "source": [
    "plot_solution(test_pts, opt_sol)"
   ]
  },
  {
   "cell_type": "markdown",
   "id": "c14697cf",
   "metadata": {},
   "source": [
    "# 3. Comparison of solution times\n",
    "\n",
    "You are now required to compare the performance of each implementation of the TSP.\n",
    "\n",
    "**For graphs with n=10, 20, 30, 40 nodes, generate 20 random instances, solve each of these with both implementations and record the average solution time for each method and instance size.**\n",
    "\n",
    "**Plot the node size against average solution time for each implementation.**\n",
    "\n",
    "The following cells show you how to time the solution of the TSP for the MS implementation, and how to use matplotlib to do a simple line plot. The function `np.mean` may be useful for calculating the average of a list of numbers."
   ]
  },
  {
   "cell_type": "code",
   "execution_count": 21,
   "id": "0e016b41",
   "metadata": {},
   "outputs": [],
   "source": [
    "import time\n",
    "\n",
    "def average_solution_time(method,n,rand_instances=20,**kwargs):\n",
    "    sol_time = np.zeros(rand_instances)\n",
    "    print(f\"Running {rand_instances} random instances: [\",end=\"\")\n",
    "    for i in range(rand_instances):\n",
    "        print(\".\",end=\"\")\n",
    "        pts, dist = generate_points_and_distance(n)\n",
    "        tic = time.perf_counter()\n",
    "        method(dist, outputFlag=0,**kwargs)\n",
    "        toc = time.perf_counter()\n",
    "        sol_time[i] = toc-tic\n",
    "    print(\"]\")\n",
    "    return np.mean(sol_time)"
   ]
  },
  {
   "cell_type": "code",
   "execution_count": 22,
   "id": "26fc8122",
   "metadata": {},
   "outputs": [
    {
     "name": "stdout",
     "output_type": "stream",
     "text": [
      "Running 20 random instances: [....................]\n",
      "DFJ with n=10 averages 0.0076 seconds\n",
      "Running 20 random instances: [....................]\n",
      "MS with n=10 averages 0.0113 seconds\n",
      "Running 20 random instances: [....................]\n",
      "DFJ with n=20 averages 0.0776 seconds\n",
      "Running 20 random instances: [....................]\n",
      "MS with n=20 averages 0.1827 seconds\n",
      "Running 20 random instances: [....................]\n",
      "DFJ with n=30 averages 1.0439 seconds\n",
      "Running 20 random instances: [....................]\n",
      "MS with n=30 averages 0.6580 seconds\n",
      "Running 20 random instances: [....................]\n",
      "DFJ with n=40 averages 6.3215 seconds\n",
      "Running 20 random instances: [....................]\n",
      "MS with n=40 averages 1.7832 seconds\n"
     ]
    }
   ],
   "source": [
    "n_list = [10,20,30,40]\n",
    "dfj_times = [0] * 4\n",
    "ms_times = [0] * 4\n",
    "for i,n in enumerate(n_list):\n",
    "    dfj_times[i] = average_solution_time(solve_tsp_row_gen,n,iter_log=False)\n",
    "    print(f\"DFJ with n={n} averages {dfj_times[i]:0.4f} seconds\")\n",
    "    ms_times[i]  = average_solution_time(solve_tsp_ms,n)\n",
    "    print(f\"MS with n={n} averages {ms_times[i]:0.4f} seconds\")"
   ]
  },
  {
   "cell_type": "code",
   "execution_count": 23,
   "id": "1cc4c1d6",
   "metadata": {},
   "outputs": [
    {
     "data": {
      "text/plain": [
       "Text(0.5, 1.0, 'Average solution times')"
      ]
     },
     "execution_count": 23,
     "metadata": {},
     "output_type": "execute_result"
    },
    {
     "data": {
      "image/png": "[encoded data removed]",
      "text/plain": [
       "<Figure size 432x288 with 1 Axes>"
      ]
     },
     "metadata": {
      "needs_background": "light"
     },
     "output_type": "display_data"
    }
   ],
   "source": [
    "plt.semilogy(n_list,dfj_times, '--o', color='r', label='DFJ')\n",
    "plt.semilogy(n_list,ms_times, '--o', color='b', label='MS')\n",
    "plt.xlabel('n')\n",
    "plt.ylabel('Time')\n",
    "plt.legend()\n",
    "plt.title(\"Average solution times\")\n",
    "#Comments: From the graph our conjecture is that the DFJ algorithm with \n",
    "#row generation is better for fewer cities, while Multistage insertion is \n",
    "#superior for higher number of cities."
   ]
  },
  {
   "cell_type": "markdown",
   "id": "0347a377",
   "metadata": {},
   "source": [
    "# Bonus Material: Branch-and-lazy-cut Implementation of DFJ formulation\n",
    "\n",
    "### Non-assessed"
   ]
  },
  {
   "cell_type": "markdown",
   "id": "9ef04f5c",
   "metadata": {},
   "source": [
    "A more modern way of implementing the TSP is to add the subtour elimination constraints during the branch-and-bound algorithm. This can be done by defining a *callback* function. This is a function that is called periodically during the solution algorithm and can be used for various other purposes such as finding new heuristic solutions for the solver, adding cutting planes, or simply printing more detailed information about the solution process.\n",
    "\n",
    "In this instance, we want to use a callback function to add what Gurobi refers to as *lazy constraints*. These are constraints which are required in a model formulation, but which are only added in the branch-and-bound algorithm as they are needed.\n",
    "\n",
    "**Below is a partial implementation of solving the TSP via callbacks. Complete the callback function `subtourelim`.**\n",
    "\n",
    "*Note that within a callback function, you must use the function `model.cbGetSolution` to extract the current solution, and `model.cbLazy` rather than `model.addConstr` to add a constraint.*"
   ]
  },
  {
   "cell_type": "code",
   "execution_count": 24,
   "id": "6ff014e5",
   "metadata": {},
   "outputs": [],
   "source": [
    "def solve_tsp_branch_and_cut(dist, **gurobi_params):\n",
    "    \n",
    "    n = dist.shape[0]\n",
    "    m, x = construct_base_model(dist)\n",
    "    for k,val in gurobi_params.items():\n",
    "        m.setParam(k, val)\n",
    "    \n",
    "    m._x = x # Attach solution to model object so this can be accessed in callback function\n",
    "    m.Params.lazyConstraints = 1 # This setting is required to add lazy constraints\n",
    "    def subtourelim(model, where):\n",
    "        # This condition means this code is only ran when Gurobi finds a new integer solution\n",
    "        # which is feasible for the current set of constraints\n",
    "        if where == GRB.Callback.MIPSOL: \n",
    "            x_vals = model.cbGetSolution(model._x) # Extract current solution\n",
    "            \n",
    "    m.optimize(subtourelim) # optimize takes callback function as an optional argument\n",
    "    vals = m.getAttr('x', x)\n",
    "    opt_sol = tuplelist((i, j) for i, j in x.keys() if vals[i, j] > 0.5)\n",
    "    return opt_sol, m.objVal"
   ]
  },
  {
   "cell_type": "markdown",
   "id": "7cc68169",
   "metadata": {},
   "source": [
    "The following two cells test your implementation works."
   ]
  },
  {
   "cell_type": "code",
   "execution_count": 25,
   "id": "1ab09569",
   "metadata": {},
   "outputs": [],
   "source": [
    "with open('instance_20_nodes.pkl', 'rb') as f:\n",
    "    test_pts, test_dist = pickle.load(f)\n",
    "opt_sol, opt_val = solve_tsp_branch_and_cut(test_dist, outputFlag=0)"
   ]
  },
  {
   "cell_type": "code",
   "execution_count": 26,
   "id": "20b9d0f3",
   "metadata": {},
   "outputs": [
    {
     "data": {
      "image/png": "[encoded data removed]",
      "text/plain": [
       "<Figure size 432x288 with 1 Axes>"
      ]
     },
     "metadata": {
      "needs_background": "light"
     },
     "output_type": "display_data"
    }
   ],
   "source": [
    "plot_solution(test_pts, opt_sol)"
   ]
  },
  {
   "cell_type": "markdown",
   "id": "6813d1bc",
   "metadata": {},
   "source": [
    "**Compare the performance of the MS implementation and the new callback implementation of the DFS formulation in the same way as above.**"
   ]
  },
  {
   "cell_type": "code",
   "execution_count": 27,
   "id": "0ecca3c3",
   "metadata": {},
   "outputs": [],
   "source": [
    "n_trials = 20\n",
    "n_list = [10, 20, 30, 40]\n"
   ]
  }
 ],
 "metadata": {
  "kernelspec": {
   "display_name": "my-env",
   "language": "python",
   "name": "my-env"
  },
  "language_info": {
   "codemirror_mode": {
    "name": "ipython",
    "version": 3
   },
   "file_extension": ".py",
   "mimetype": "text/x-python",
   "name": "python",
   "nbconvert_exporter": "python",
   "pygments_lexer": "ipython3",
   "version": "3.9.7"
  }
 },
 "nbformat": 4,
 "nbformat_minor": 5
}
